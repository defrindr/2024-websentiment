{
 "cells": [
  {
   "cell_type": "markdown",
   "metadata": {},
   "source": [
    "# Instalasi Librari yang dibutuhkan"
   ]
  },
  {
   "cell_type": "code",
   "execution_count": 20,
   "metadata": {},
   "outputs": [],
   "source": [
    "import pandas as pd # untuk pemrosesan file csv\n",
    "import string # untuk melakukan tokenisasi\n",
    "import numpy as np # untuk memudahkan perhitungan pada array\n",
    "import re # untuk membantu proses tokenisasi"
   ]
  },
  {
   "cell_type": "code",
   "execution_count": 23,
   "metadata": {},
   "outputs": [],
   "source": [
    "dataFrame = pd.read_csv('./samples/berita_completed.csv')\n",
    "\n",
    "\n",
    "def adaptCategoryName(item):\n",
    "    item = item.replace('\\t', '')\n",
    "    return item\n",
    "\n",
    "\n",
    "# Menampilkan beberapa data paling atas\n",
    "dataFrame['Kategori'] = dataFrame['Kategori'].apply(adaptCategoryName)\n",
    "uniq_categories = []\n",
    "\n",
    "categories = dataFrame['Kategori'].unique()\n",
    "categories = categories[::-1]\n",
    "for i in range(8):\n",
    "    uniq_categories.append(categories[i])\n",
    "\n",
    "dataFrame = dataFrame[dataFrame['Kategori'].isin(uniq_categories)]\n",
    "\n",
    "# print(dataFrame.groupby('Kategori').head(100).count())\n",
    "dataFrame.to_csv(\n",
    "    f'samples/training.csv', index=False)\n",
    "\n",
    "dataFrame = dataFrame.sample(frac=1)\n",
    "dataFrame = dataFrame.reset_index()\n",
    "dataFrame = dataFrame.drop(columns=['id', 'index'])\n",
    "perCsv = int(dataFrame['Kategori'].count() / 4)\n",
    "\n",
    "newDf = {}\n",
    "for i in range(4):\n",
    "    offset = i * perCsv\n",
    "    data = offset + perCsv\n",
    "    newDf[i] = dataFrame.iloc[offset:data]\n",
    "    newDf[i].to_csv(f'samples/sheet_{i}.csv', index=False)"
   ]
  }
 ],
 "metadata": {
  "kernelspec": {
   "display_name": ".venv",
   "language": "python",
   "name": "python3"
  },
  "language_info": {
   "codemirror_mode": {
    "name": "ipython",
    "version": 3
   },
   "file_extension": ".py",
   "mimetype": "text/x-python",
   "name": "python",
   "nbconvert_exporter": "python",
   "pygments_lexer": "ipython3",
   "version": "3.11.6"
  }
 },
 "nbformat": 4,
 "nbformat_minor": 2
}
